{
  "nbformat": 4,
  "nbformat_minor": 0,
  "metadata": {
    "colab": {
      "name": "GPA計算機",
      "provenance": [],
      "collapsed_sections": [],
      "include_colab_link": true
    },
    "kernelspec": {
      "name": "python3",
      "display_name": "Python 3"
    },
    "language_info": {
      "name": "python"
    }
  },
  "cells": [
    {
      "cell_type": "markdown",
      "metadata": {
        "id": "view-in-github",
        "colab_type": "text"
      },
      "source": [
        "<a href=\"https://colab.research.google.com/github/ccoliu/ccoliu.github.io/blob/main/GPA%E8%A8%88%E7%AE%97%E6%A9%9F.ipynb\" target=\"_parent\"><img src=\"https://colab.research.google.com/assets/colab-badge.svg\" alt=\"Open In Colab\"/></a>"
      ]
    },
    {
      "cell_type": "code",
      "execution_count": null,
      "metadata": {
        "colab": {
          "base_uri": "https://localhost:8080/"
        },
        "id": "y9scwiAOwJwY",
        "outputId": "8e91a8d0-e98b-46e3-997a-33d965469681"
      },
      "outputs": [
        {
          "output_type": "stream",
          "name": "stdout",
          "text": [
            "請輸入你的成績(全小寫，中間用空格隔開): b b+ c c- d\n",
            "請輸入你的學分數: 2 3 2 1 1\n",
            "你的成績平均積點(GPA)為  2.51111\n"
          ]
        }
      ],
      "source": [
        "def gpa_calculator(x,y,z):\n",
        "  t = 0\n",
        "  s = 0\n",
        "  while t < len(x):\n",
        "    if x[t] == 'a+':\n",
        "      s = s + y[t] * 4.3\n",
        "    elif x[t] == 'a':\n",
        "      s = s + y[t] * 4\n",
        "    elif x[t] == 'a-':\n",
        "      s = s + y[t] * 3.7\n",
        "    elif x[t] == 'b+':\n",
        "      s = s + y[t] * 3.3\n",
        "    elif x[t] == 'b':\n",
        "      s = s + y[t] * 3\n",
        "    elif x[t] == 'b-':\n",
        "      s = s + y[t] * 2.7\n",
        "    elif x[t] == 'c+':\n",
        "      s = s + y[t] * 2.3\n",
        "    elif x[t] == 'c':\n",
        "      s = s + y[t] * 2\n",
        "    elif x[t] == 'c-':\n",
        "      s = s + y[t] * 1.7\n",
        "    elif x[t] == 'd':\n",
        "      s = s + y[t] * 1\n",
        "    else:\n",
        "      s = s + 0\n",
        "    t = t + 1\n",
        "  print(\"你的成績平均積點(GPA)為 \", round(s/z,5))\n",
        "\n",
        "grade = []\n",
        "credit = []\n",
        "i = 0\n",
        "j = 0\n",
        "sum = 0\n",
        "string = str(input(\"請輸入你的成績(全小寫，中間用空格隔開): \"))\n",
        "string2 = input((\"請輸入你的學分數: \"))\n",
        "string3 = ''\n",
        "string = string + ' '\n",
        "while i < len(string2):\n",
        "  if str(string2[i]) != \" \":\n",
        "    credit.append(int(string2[i]))\n",
        "    sum = sum + int(string2[i])\n",
        "  i = i + 1\n",
        "while j < len(string):\n",
        "  if str(string[j]) != \" \":\n",
        "    while str(string[j]) != \" \":\n",
        "      string3 = string3 + str(string[j])\n",
        "      if j < len(string):\n",
        "        j = j + 1\n",
        "    grade.append(string3)\n",
        "    string3 = ''\n",
        "  else:\n",
        "    j = j + 1\n",
        "gpa_calculator(grade,credit,sum)"
      ]
    }
  ]
}